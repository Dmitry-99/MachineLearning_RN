{
 "cells": [
  {
   "cell_type": "markdown",
   "metadata": {},
   "source": [
    "## Неделя 12. Домашнее задание по отбору признаков."
   ]
  },
  {
   "cell_type": "markdown",
   "metadata": {},
   "source": [
    "### Теоретические вопросы:\n",
    "1) Какая группа методов отбора признаков является наиболее вычислительно затратной?\n",
    "    1. Filter methods (методы фильтрации)\n",
    "    2. Embedded methods (встроенные методы)\n",
    "    3. Wrapper methods (методы обёртки)\n",
    "    \n",
    "2) Какая группа методов отбора признаков используется ДО обучения модели?\n",
    "    1. Filter methods (методы фильтрации)\n",
    "    2. Embedded methods (встроенные методы)\n",
    "    3. Wrapper methods (методы обёртки)\n",
    "    \n",
    "3) Какой из нижеперечисленных методов отбора признаков относится к методам фильтрации?\n",
    "    1. Recursive feature elimination\n",
    "    2. LASSO\n",
    "    3. Метод на основе chi-squared\n",
    "    \n",
    "4) Какой из нижеперечисленных методов отбора признаков относится к встроенным методам?\n",
    "    1. Recursive feature elimination\n",
    "    2. LASSO\n",
    "    3. Метод на основе chi-squared\n",
    "    \n",
    "5) Какой из нижеперечисленных методов отбора признаков относится к методам обёртки?\n",
    "    1. Recursive feature elimination\n",
    "    2. LASSO\n",
    "    3. Метод на основе chi-squared"
   ]
  },
  {
   "cell_type": "markdown",
   "metadata": {},
   "source": [
    "**Answer:**\n",
    "1. 3\n",
    "2. 1\n",
    "3. 3\n",
    "4. 2\n",
    "5. 1"
   ]
  },
  {
   "cell_type": "markdown",
   "metadata": {},
   "source": [
    "### Практическая часть."
   ]
  },
  {
   "cell_type": "code",
   "execution_count": 1,
   "metadata": {},
   "outputs": [],
   "source": [
    "import pandas as pd\n",
    "import numpy as np\n",
    "\n",
    "from sklearn.tree import DecisionTreeClassifier\n",
    "from sklearn.feature_selection import SelectKBest, chi2, RFE\n",
    "\n",
    "import seaborn as sns"
   ]
  },
  {
   "cell_type": "markdown",
   "metadata": {},
   "source": [
    "**Описание контекста задачи**\n",
    "В некоторой компании занимающейся услугами мобильной связи для клиентов доступны дополнительные платные услуги A, B и C,которые взаимоисключают друг друга. Руководство компании хочет построить модель, которая будет для каждого клиента определять наиболее подходящую ему услугу для таргетированной рекламы этих услуг внутри компании.\n",
    "**Описание датасета**\n",
    "Каждая строка в датасете определяет одного клиента компани и дополнительную услугу.\n",
    "В датасете имеются следующие колонки:\n",
    "- age: возраст клиента\n",
    "- No: номер договора\n",
    "- month_from_start: количество месяцев с даты заключения договора\n",
    "- base_cost: стоимость основного тарифа в рублях\n",
    "- block_count: количество блокировок\n",
    "- is_used_app: использует ли мобильное приложение\n",
    "- month_incall_mean: среднее количество входящих звонков в месяц\n",
    "- month_outcall_mean: среднее количество исходящих звонков в месяц\n",
    "- add_service: дополнительная платная услуга"
   ]
  },
  {
   "cell_type": "code",
   "execution_count": 2,
   "metadata": {},
   "outputs": [],
   "source": [
    "df = pd.read_csv('mobile_service.csv')"
   ]
  },
  {
   "cell_type": "code",
   "execution_count": 3,
   "metadata": {},
   "outputs": [
    {
     "name": "stdout",
     "output_type": "stream",
     "text": [
      "<class 'pandas.core.frame.DataFrame'>\n",
      "RangeIndex: 1300 entries, 0 to 1299\n",
      "Data columns (total 9 columns):\n",
      " #   Column              Non-Null Count  Dtype  \n",
      "---  ------              --------------  -----  \n",
      " 0   age                 1300 non-null   float64\n",
      " 1   No                  1300 non-null   int64  \n",
      " 2   month_from_start    1300 non-null   int64  \n",
      " 3   base_cost           1300 non-null   int64  \n",
      " 4   block_count         1300 non-null   int64  \n",
      " 5   is_used_app         1300 non-null   int64  \n",
      " 6   month_incall_mean   1300 non-null   float64\n",
      " 7   month_outcall_mean  1300 non-null   float64\n",
      " 8   add_service         1300 non-null   int64  \n",
      "dtypes: float64(3), int64(6)\n",
      "memory usage: 91.5 KB\n"
     ]
    }
   ],
   "source": [
    "df.info()"
   ]
  },
  {
   "cell_type": "code",
   "execution_count": 4,
   "metadata": {},
   "outputs": [],
   "source": [
    "X = df.drop('add_service', axis=1).copy()\n",
    "y = df['add_service'].copy()"
   ]
  },
  {
   "cell_type": "markdown",
   "metadata": {},
   "source": [
    "**Вопрос 6.** Какие два признака будут исключены из датасета если использовать метод отбора признаков, основанный на статистике хи-квадрат c конечным количеством признаков 6 (9 всего - 1 таргет - 2 признака)? В ответе выберите нужные признаки."
   ]
  },
  {
   "cell_type": "code",
   "execution_count": 7,
   "metadata": {},
   "outputs": [
    {
     "data": {
      "text/plain": [
       "{'base_cost', 'block_count'}"
      ]
     },
     "execution_count": 7,
     "metadata": {},
     "output_type": "execute_result"
    }
   ],
   "source": [
    "# код тут\n",
    "sel_k_best = SelectKBest(chi2, k=6)\n",
    "sel_k_best.fit(X, y)\n",
    "X_selected = pd.DataFrame(sel_k_best.transform(X), \n",
    "                         columns = [a for a,b in zip(df.columns, sel_k_best.get_support()) if b])\n",
    "chi2_cols = X_selected.columns\n",
    "set(X.columns)-set(chi2_cols)"
   ]
  },
  {
   "cell_type": "markdown",
   "metadata": {},
   "source": [
    "**Вопрос 7.** Какие два признака будут присутствовать в датасете если использовать метод отбора признаков RFE, с параметрами estimator=sklearn.tree.DecisionTreeClassifier и step=1 c конечным количеством признаков 2 с различными random_state? В ответе выберите нужные признаки."
   ]
  },
  {
   "cell_type": "code",
   "execution_count": 12,
   "metadata": {},
   "outputs": [
    {
     "data": {
      "text/plain": [
       "Index(['age', 'month_outcall_mean'], dtype='object')"
      ]
     },
     "execution_count": 12,
     "metadata": {},
     "output_type": "execute_result"
    }
   ],
   "source": [
    "# код тут\n",
    "estimator = DecisionTreeClassifier()\n",
    "rfe = RFE(estimator, n_features_to_select=2, step=1)\n",
    "rfe.fit(X, y)\n",
    "X_selected = pd.DataFrame(rfe.transform(X), \n",
    "                         columns = [a for a,b in zip(df.columns, rfe.get_support()) if b])\n",
    "rfe_cols = X_selected.columns\n",
    "rfe_cols"
   ]
  },
  {
   "cell_type": "markdown",
   "metadata": {},
   "source": [
    "**Вопрос 8.** Какие два признака в датасете имеют коэффициент корреляции > 0.5 (между собой, не с таргетом)? В ответе выберите нужные признаки."
   ]
  },
  {
   "cell_type": "code",
   "execution_count": 8,
   "metadata": {},
   "outputs": [
    {
     "data": {
      "text/html": [
       "<div>\n",
       "<style scoped>\n",
       "    .dataframe tbody tr th:only-of-type {\n",
       "        vertical-align: middle;\n",
       "    }\n",
       "\n",
       "    .dataframe tbody tr th {\n",
       "        vertical-align: top;\n",
       "    }\n",
       "\n",
       "    .dataframe thead th {\n",
       "        text-align: right;\n",
       "    }\n",
       "</style>\n",
       "<table border=\"1\" class=\"dataframe\">\n",
       "  <thead>\n",
       "    <tr style=\"text-align: right;\">\n",
       "      <th></th>\n",
       "      <th>age</th>\n",
       "      <th>No</th>\n",
       "      <th>month_from_start</th>\n",
       "      <th>base_cost</th>\n",
       "      <th>block_count</th>\n",
       "      <th>is_used_app</th>\n",
       "      <th>month_incall_mean</th>\n",
       "      <th>month_outcall_mean</th>\n",
       "    </tr>\n",
       "  </thead>\n",
       "  <tbody>\n",
       "    <tr>\n",
       "      <th>age</th>\n",
       "      <td>1.000000</td>\n",
       "      <td>0.020843</td>\n",
       "      <td>0.016129</td>\n",
       "      <td>-0.005241</td>\n",
       "      <td>0.011103</td>\n",
       "      <td>0.046018</td>\n",
       "      <td>-0.044111</td>\n",
       "      <td>-0.053912</td>\n",
       "    </tr>\n",
       "    <tr>\n",
       "      <th>No</th>\n",
       "      <td>0.020843</td>\n",
       "      <td>1.000000</td>\n",
       "      <td>-0.075299</td>\n",
       "      <td>0.040723</td>\n",
       "      <td>-0.026112</td>\n",
       "      <td>-0.022328</td>\n",
       "      <td>0.007470</td>\n",
       "      <td>0.005794</td>\n",
       "    </tr>\n",
       "    <tr>\n",
       "      <th>month_from_start</th>\n",
       "      <td>0.016129</td>\n",
       "      <td>-0.075299</td>\n",
       "      <td>1.000000</td>\n",
       "      <td>0.007472</td>\n",
       "      <td>0.001757</td>\n",
       "      <td>-0.013250</td>\n",
       "      <td>0.031683</td>\n",
       "      <td>-0.029484</td>\n",
       "    </tr>\n",
       "    <tr>\n",
       "      <th>base_cost</th>\n",
       "      <td>-0.005241</td>\n",
       "      <td>0.040723</td>\n",
       "      <td>0.007472</td>\n",
       "      <td>1.000000</td>\n",
       "      <td>0.012973</td>\n",
       "      <td>0.007132</td>\n",
       "      <td>0.028577</td>\n",
       "      <td>0.034327</td>\n",
       "    </tr>\n",
       "    <tr>\n",
       "      <th>block_count</th>\n",
       "      <td>0.011103</td>\n",
       "      <td>-0.026112</td>\n",
       "      <td>0.001757</td>\n",
       "      <td>0.012973</td>\n",
       "      <td>1.000000</td>\n",
       "      <td>0.012788</td>\n",
       "      <td>0.030286</td>\n",
       "      <td>0.012282</td>\n",
       "    </tr>\n",
       "    <tr>\n",
       "      <th>is_used_app</th>\n",
       "      <td>0.046018</td>\n",
       "      <td>-0.022328</td>\n",
       "      <td>-0.013250</td>\n",
       "      <td>0.007132</td>\n",
       "      <td>0.012788</td>\n",
       "      <td>1.000000</td>\n",
       "      <td>-0.017679</td>\n",
       "      <td>0.010767</td>\n",
       "    </tr>\n",
       "    <tr>\n",
       "      <th>month_incall_mean</th>\n",
       "      <td>-0.044111</td>\n",
       "      <td>0.007470</td>\n",
       "      <td>0.031683</td>\n",
       "      <td>0.028577</td>\n",
       "      <td>0.030286</td>\n",
       "      <td>-0.017679</td>\n",
       "      <td>1.000000</td>\n",
       "      <td>0.567645</td>\n",
       "    </tr>\n",
       "    <tr>\n",
       "      <th>month_outcall_mean</th>\n",
       "      <td>-0.053912</td>\n",
       "      <td>0.005794</td>\n",
       "      <td>-0.029484</td>\n",
       "      <td>0.034327</td>\n",
       "      <td>0.012282</td>\n",
       "      <td>0.010767</td>\n",
       "      <td>0.567645</td>\n",
       "      <td>1.000000</td>\n",
       "    </tr>\n",
       "  </tbody>\n",
       "</table>\n",
       "</div>"
      ],
      "text/plain": [
       "                         age        No  month_from_start  base_cost  \\\n",
       "age                 1.000000  0.020843          0.016129  -0.005241   \n",
       "No                  0.020843  1.000000         -0.075299   0.040723   \n",
       "month_from_start    0.016129 -0.075299          1.000000   0.007472   \n",
       "base_cost          -0.005241  0.040723          0.007472   1.000000   \n",
       "block_count         0.011103 -0.026112          0.001757   0.012973   \n",
       "is_used_app         0.046018 -0.022328         -0.013250   0.007132   \n",
       "month_incall_mean  -0.044111  0.007470          0.031683   0.028577   \n",
       "month_outcall_mean -0.053912  0.005794         -0.029484   0.034327   \n",
       "\n",
       "                    block_count  is_used_app  month_incall_mean  \\\n",
       "age                    0.011103     0.046018          -0.044111   \n",
       "No                    -0.026112    -0.022328           0.007470   \n",
       "month_from_start       0.001757    -0.013250           0.031683   \n",
       "base_cost              0.012973     0.007132           0.028577   \n",
       "block_count            1.000000     0.012788           0.030286   \n",
       "is_used_app            0.012788     1.000000          -0.017679   \n",
       "month_incall_mean      0.030286    -0.017679           1.000000   \n",
       "month_outcall_mean     0.012282     0.010767           0.567645   \n",
       "\n",
       "                    month_outcall_mean  \n",
       "age                          -0.053912  \n",
       "No                            0.005794  \n",
       "month_from_start             -0.029484  \n",
       "base_cost                     0.034327  \n",
       "block_count                   0.012282  \n",
       "is_used_app                   0.010767  \n",
       "month_incall_mean             0.567645  \n",
       "month_outcall_mean            1.000000  "
      ]
     },
     "execution_count": 8,
     "metadata": {},
     "output_type": "execute_result"
    }
   ],
   "source": [
    "# код тут\n",
    "X.corr()"
   ]
  },
  {
   "cell_type": "markdown",
   "metadata": {},
   "source": [
    "**Answer:** month_outcall_mean and month_incall_mean"
   ]
  },
  {
   "cell_type": "code",
   "execution_count": null,
   "metadata": {},
   "outputs": [],
   "source": []
  }
 ],
 "metadata": {
  "kernelspec": {
   "display_name": "Python 3",
   "language": "python",
   "name": "python3"
  },
  "language_info": {
   "codemirror_mode": {
    "name": "ipython",
    "version": 3
   },
   "file_extension": ".py",
   "mimetype": "text/x-python",
   "name": "python",
   "nbconvert_exporter": "python",
   "pygments_lexer": "ipython3",
   "version": "3.7.6"
  }
 },
 "nbformat": 4,
 "nbformat_minor": 4
}
