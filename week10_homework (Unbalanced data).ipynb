{
 "cells": [
  {
   "cell_type": "markdown",
   "metadata": {},
   "source": [
    "# Неделя 10. Работа с несбалансированными данными"
   ]
  },
  {
   "cell_type": "code",
   "execution_count": 1,
   "metadata": {},
   "outputs": [],
   "source": [
    "import matplotlib.pyplot as plt\n",
    "import seaborn as sns\n",
    "\n",
    "import numpy as np\n",
    "import pandas as pd\n",
    "\n",
    "import warnings\n",
    "warnings.filterwarnings('ignore')"
   ]
  },
  {
   "cell_type": "markdown",
   "metadata": {},
   "source": [
    "### <font color='scarlett'> Для получения верных отвтеов необходимы следующие версии бибилотек:"
   ]
  },
  {
   "cell_type": "code",
   "execution_count": 2,
   "metadata": {},
   "outputs": [],
   "source": [
    "#!pip install -U scikit-learn==0.21.3"
   ]
  },
  {
   "cell_type": "code",
   "execution_count": 3,
   "metadata": {},
   "outputs": [
    {
     "name": "stderr",
     "output_type": "stream",
     "text": [
      "C:\\Users\\Dmitry\\Anaconda\\lib\\site-packages\\sklearn\\externals\\six.py:31: DeprecationWarning: The module is deprecated in version 0.21 and will be removed in version 0.23 since we've dropped support for Python 2.7. Please rely on the official version of six (https://pypi.org/project/six/).\n",
      "  \"(https://pypi.org/project/six/).\", DeprecationWarning)\n"
     ]
    },
    {
     "name": "stdout",
     "output_type": "stream",
     "text": [
      "0.21.3\n",
      "0.4.3\n"
     ]
    }
   ],
   "source": [
    "import sklearn\n",
    "import imblearn\n",
    "\n",
    "print(sklearn.__version__)\n",
    "print(imblearn.__version__)"
   ]
  },
  {
   "cell_type": "markdown",
   "metadata": {},
   "source": [
    "## <font color=\"purple\"> Загрузка данных\n",
    "\n",
    "В используемом наборе данных собрана информация об оттоке клиентов телекоммуникационной компании.\n",
    "\n",
    "__Задача__: определить лояльность клиента\n",
    "\n",
    "    Признак \"churn\": 1 - перестал быть клиентом, 0 - продолжил пользоваться услугами компании\n",
    "    \n",
    "    Верно определяя абонентов, которые могут отказаться от услуг компании, бизнес может предпринять меры и минимизировать отток клиентов. Например, предлагать персональные скидки, предоставлять пакеты минут и т.п."
   ]
  },
  {
   "cell_type": "code",
   "execution_count": 4,
   "metadata": {},
   "outputs": [
    {
     "data": {
      "text/plain": [
       "(3333, 21)"
      ]
     },
     "execution_count": 4,
     "metadata": {},
     "output_type": "execute_result"
    }
   ],
   "source": [
    "data = pd.read_csv(\"churn.csv\")\n",
    "data.shape"
   ]
  },
  {
   "cell_type": "code",
   "execution_count": 5,
   "metadata": {},
   "outputs": [
    {
     "data": {
      "text/plain": [
       "<matplotlib.axes._subplots.AxesSubplot at 0x16ba57b91c8>"
      ]
     },
     "execution_count": 5,
     "metadata": {},
     "output_type": "execute_result"
    },
    {
     "data": {
      "image/png": "[encoded data removed]",
      "text/plain": [
       "<Figure size 432x288 with 1 Axes>"
      ]
     },
     "metadata": {},
     "output_type": "display_data"
    }
   ],
   "source": [
    "# посмотрим на распределение\n",
    "sns.set(style=\"darkgrid\")\n",
    "sns.countplot(x=\"churn\", data=data)"
   ]
  },
  {
   "cell_type": "code",
   "execution_count": 6,
   "metadata": {},
   "outputs": [
    {
     "data": {
      "text/plain": [
       "False    2850\n",
       "True      483\n",
       "Name: churn, dtype: int64"
      ]
     },
     "execution_count": 6,
     "metadata": {},
     "output_type": "execute_result"
    }
   ],
   "source": [
    "data['churn'].value_counts()"
   ]
  },
  {
   "cell_type": "markdown",
   "metadata": {},
   "source": [
    "Очевидно, что большинство абонентов не отказываются от услуг. Компании необходимо разработать классификатор, находящий как можно больше редких недовольных клиентов. "
   ]
  },
  {
   "cell_type": "code",
   "execution_count": 7,
   "metadata": {},
   "outputs": [],
   "source": [
    "# уберем колонки Штат абонента, Тел.номер абонента\n",
    "data.drop(['state','phone number'],axis=1,inplace=True)"
   ]
  },
  {
   "cell_type": "code",
   "execution_count": 8,
   "metadata": {},
   "outputs": [],
   "source": [
    "# закодируем категориальные переменные\n",
    "data[\"international plan\"] = data[\"international plan\"].map({\"no\":0,\"yes\":1})\n",
    "data[\"voice mail plan\"] = data[\"voice mail plan\"].map({\"no\":0,\"yes\":1})"
   ]
  },
  {
   "cell_type": "markdown",
   "metadata": {},
   "source": [
    "## <font color=\"purple\"> Разделение выборки на обучение и контроль\n",
    "\n",
    "Не забудем указать стратификацию по целевой переменной, чтобы сохранить исходное распределение классов."
   ]
  },
  {
   "cell_type": "code",
   "execution_count": 9,
   "metadata": {},
   "outputs": [
    {
     "data": {
      "text/plain": [
       "((2666, 19), (667, 19))"
      ]
     },
     "execution_count": 9,
     "metadata": {},
     "output_type": "execute_result"
    }
   ],
   "source": [
    "from sklearn.model_selection import train_test_split\n",
    "train, test = train_test_split(data, test_size=0.2, stratify=data['churn'], random_state=1)\n",
    "train.shape, test.shape"
   ]
  },
  {
   "cell_type": "code",
   "execution_count": 10,
   "metadata": {},
   "outputs": [
    {
     "data": {
      "text/plain": [
       "((2666, 18), (2666,), (667, 18), (667,))"
      ]
     },
     "execution_count": 10,
     "metadata": {},
     "output_type": "execute_result"
    }
   ],
   "source": [
    "X_train = train.drop('churn', axis=1)\n",
    "y_train = train['churn'].astype(int)\n",
    "\n",
    "X_test = test.drop('churn', axis=1)\n",
    "y_test = test['churn'].astype(int)\n",
    "\n",
    "X_train.shape, y_train.shape, X_test.shape, y_test.shape"
   ]
  },
  {
   "cell_type": "markdown",
   "metadata": {},
   "source": [
    "## <font color=\"purple\"> Кросс-валидация"
   ]
  },
  {
   "cell_type": "markdown",
   "metadata": {},
   "source": [
    "### <font color='orange'> __Важно!__\n",
    "\n",
    "Подбор оптимальной стратегии ресемплинга необходимо производить на кросс-валидации. Таким образом мы избежим подстраивания под данные тестовой выборки. Это позволит получить реалистичную оценку качества построенной модели."
   ]
  },
  {
   "cell_type": "markdown",
   "metadata": {},
   "source": [
    "### Задание 1. \n",
    "\n",
    "В качестве бейзлайна построим логистическую регрессию. \n",
    "1. Для оценки качества воспользуйтесь функцией cross_val_score из библиотеки sklearn.\n",
    "    - Подумайте, какую стратегию кросс-валидации применить. Выберите нужную, укажите разбиение на 5 фолдов.\n",
    "    - В качестве оцениваемой метрики выберите полноту.\n",
    "    - Определите среднее значение, вовзращаемое функцией (используйте метод .mean()).\n",
    "3. Ответ округлите до трех знаков после запятой. Внесите в гугл-форму __\"Вопрос 1\"__.\n",
    "\n",
    "__NB__: Для воспроизводимости результатов и получения правильного ответа __во всех алгоритмах и методах__ нужно установить параметр random_seed=1!"
   ]
  },
  {
   "cell_type": "code",
   "execution_count": 11,
   "metadata": {},
   "outputs": [
    {
     "name": "stdout",
     "output_type": "stream",
     "text": [
      "0.189\n"
     ]
    }
   ],
   "source": [
    "#### ваш код ####\n",
    "from sklearn.model_selection import StratifiedKFold, cross_val_score\n",
    "from sklearn.linear_model import LogisticRegression\n",
    "\n",
    "skf = StratifiedKFold(n_splits=5, shuffle=True, random_state=1)\n",
    "\n",
    "log_r = LogisticRegression(random_state=1)\n",
    "cv_scores = cross_val_score(estimator=log_r, X=X_train, y=y_train, scoring='recall', cv=skf)\n",
    "\n",
    "print(round(cv_scores.mean(),3))\n"
   ]
  },
  {
   "cell_type": "markdown",
   "metadata": {},
   "source": [
    "### Задание 2."
   ]
  },
  {
   "cell_type": "markdown",
   "metadata": {},
   "source": [
    "1. Допишите функцию K-fold валидации (resamped_cv_scores), позволяющую произвести ресемплинг на K-1 фолдах, не затронув тестовый фолд. Функция принимает на вход объект алгоритма классификации, датафрейм признаков (независимых переменных), целевую переменную. Функция должна возвращать среднюю (используйте метод .mean()) оценку качества модели по всем K-фолдам.\n",
    "\n",
    "2. В качестве алгоритма классификации используйте логистическую регрессию.\n",
    "\n",
    "3. Ответ округлите до трех знаков после запятой. Внесите в гугл-форму __\"Вопрос 2\"__.\n",
    "\n",
    "__NB__: Для воспроизводимости результатов и получения правильного ответа __во всех алгоритмах и методах__ нужно установить параметр random_seed=1!"
   ]
  },
  {
   "cell_type": "code",
   "execution_count": 12,
   "metadata": {},
   "outputs": [],
   "source": [
    "from imblearn.combine import SMOTEENN #RandomOverSampler\n",
    "from sklearn.metrics import recall_score\n",
    "\n",
    "def resamped_cv_scores(model, X, y):\n",
    "    # Выбрать подходящий объект для кросс-валидации из классов sklearn.model_selection,\n",
    "    # разбить выборку на 5 фолдов\n",
    "    skf = StratifiedKFold(n_splits=5, shuffle=True, random_state=1)\n",
    "    #### ваш код ####\n",
    "    \n",
    "    # Выбрать алгоритм из библиотеки imblearn, производящий oversampling с \n",
    "    # последующим очищением с помощью алгоритма k-ближайших соседей.\n",
    "    # Все параметры оставьте по умолчанию, кроме random_state.\n",
    "    #ros = RandomOverSampler(random_state=1)\n",
    "    sm = SMOTEENN(random_state=1)\n",
    "    #### ваш код #### \n",
    "    \n",
    "    cv_scores = []\n",
    "    for train_index, test_index in skf.split(X, y):\n",
    "        #print(\"TRAIN:\", train_index, \"TEST:\", test_index)\n",
    "        X_train, X_test = X.iloc[train_index], X.iloc[test_index]\n",
    "        y_train, y_test = y.iloc[train_index], y.iloc[test_index]\n",
    "\n",
    "        # Делаем ресемплинг на трейне\n",
    "        #X_resampled, y_resampled = ros.fit_sample(X_train, y_train) #### ваш код ####\n",
    "        X_resampled, y_resampled = sm.fit_sample(X_train, y_train)\n",
    "\n",
    "        # Обучаем модель на данных трейна после ресемплинга\n",
    "        model_obj = model.fit(X_resampled, y_resampled)\n",
    "        \n",
    "        # Оцениваем качество модели на тестовой выборке, неподвергавшейся ресемплингу\n",
    "        # Необходимая нам метрика - полнота модели\n",
    "        cv_scores.append(recall_score(y_test, model.predict(X_test)))\n",
    "        #### ваш код ####\n",
    "        \n",
    "    return np.array(cv_scores).mean() #### ваш код ####"
   ]
  },
  {
   "cell_type": "code",
   "execution_count": 13,
   "metadata": {},
   "outputs": [],
   "source": [
    "#### ваш код ####\n",
    "mean = resamped_cv_scores(LogisticRegression(random_state=1), X_train, y_train)"
   ]
  },
  {
   "cell_type": "code",
   "execution_count": 14,
   "metadata": {},
   "outputs": [
    {
     "data": {
      "text/plain": [
       "0.826"
      ]
     },
     "execution_count": 14,
     "metadata": {},
     "output_type": "execute_result"
    }
   ],
   "source": [
    "round(mean, 3)"
   ]
  },
  {
   "cell_type": "markdown",
   "metadata": {},
   "source": [
    "## <font color=\"purple\"> Немного теории"
   ]
  },
  {
   "cell_type": "markdown",
   "metadata": {},
   "source": [
    "### Задание 3\n",
    "\n",
    "В предыдущем задании вами была использована одна из модификаций метода oversampling с последующим удалением объектов, определяемых с помощью k-ближайших соседей. Кратко и точно объясните правило, по которому выбирались объекты для удаления __конкретно__ в нашем примере.\n",
    "\n",
    "\n",
    "- Ответ внесите в гугл-форму __\"Вопрос 3\"__."
   ]
  },
  {
   "cell_type": "markdown",
   "metadata": {},
   "source": [
    "**<font color='red'>Answer:** выбирались объекты c меткой 0 (мажоритарный класс), для каждого из находились k ближайших соседей, если оказывалось, что ближайшим соседом является объект с меткой 1 (минорный класс), то объект мажориторного класса удалялся"
   ]
  },
  {
   "cell_type": "markdown",
   "metadata": {},
   "source": [
    "### Задание 4\n",
    "\n",
    "На лекции мы познакомились с контролируемым методом undersampling'а - NearMiss. Мы разобрали работу одной из трех вариаций алгоритма. Кстати, именно ту, что заложена по умолчанию в библиотеки imblearn.\n",
    "\n",
    "1. Кратко объясните, как работает NearMiss-2.\n",
    "    - Ответ внесите в гугл-форму __\"Вопрос 4.1\"__.\n",
    "\n",
    "\n",
    "2. Кратко объясните, как работает NearMiss-3.\n",
    "    - Ответ внесите в гугл-форму __\"Вопрос 4.2\"__."
   ]
  },
  {
   "cell_type": "markdown",
   "metadata": {},
   "source": [
    "**Answer:** \n",
    "    1. отбираются те объекты мажоритарного класса, чье среднее расстояние до k наиболее удаленных объектов минорного класса наименьшее\n",
    "    2. отбираются те объекты мажоритарного класса, чье расстояние до каждого из k объектов минорного класса наименьшее "
   ]
  },
  {
   "cell_type": "markdown",
   "metadata": {},
   "source": [
    "## <font color=\"purple\"> Моделирование и тестирование"
   ]
  },
  {
   "cell_type": "markdown",
   "metadata": {},
   "source": [
    "### Задание 5\n",
    "\n",
    "На кросс-валидации мы убедились, что качество модели улучшается при использовании методов ресемплинга. Теперь мы построим модель и оценим качество классификации.\n",
    "\n",
    "- Произведите ресемплинг обучающей выборки с помощью метода, использованного вами в __Задание 2__. На полученных данных обучите алгоритм логистической регрессии. Сделайте прогнозы на тестовой выборке.\n",
    "- Отрисуйте матрицу ошибок с помощью функции draw_cm.\n",
    "- Выведите classification_report для быстрой оценки метрик по обоим классам.\n",
    "\n",
    "Вопросы:\n",
    "\n",
    "1. Сколько __новых__ синтетических примеров было сгенерировано классом, который вы использовали для ресемплинга. \n",
    "    - Ответ запишите в гугл-форму __\"Вопрос 5.1\"__.\n",
    "    \n",
    "    \n",
    "2. Как называются объекты указаные в левом нижнем углу и в правом верхнем углу матрицы ошибок? Попробуйте поиграть с параметром normalize. Обратите внимание на подписи к осям.\n",
    "    - Ответ запишите в гугл-форму __\"Вопрос 5.2\"__.\n",
    "    \n",
    "    \n",
    "3. Какую из четырех категорий хочет минимизировать телекоммуникационная компания, если хочет сохранить как можно больше клиентов? Какую максимизировать?\n",
    "    - Ответ запишите в гугл-форму __\"Вопрос 5.3\"__.\n",
    "    \n",
    "    \n",
    "__NB__: Для воспроизводимости результатов и получения правильного ответа __во всех алгоритмах и методах__ нужно установить параметр random_seed=1!"
   ]
  },
  {
   "cell_type": "code",
   "execution_count": 15,
   "metadata": {},
   "outputs": [],
   "source": [
    "sm = SMOTEENN(random_state=1)\n",
    "X_resampled, y_resampled = sm.fit_sample(X_train, y_train)\n",
    "\n",
    "new_logreg = LogisticRegression(random_state=1)\n",
    "new_logreg.fit(X_resampled, y_resampled)\n",
    "y_pred = new_logreg.predict(X_test)"
   ]
  },
  {
   "cell_type": "code",
   "execution_count": 16,
   "metadata": {},
   "outputs": [],
   "source": [
    "def draw_cm(cm, classes, normalize=True):\n",
    "    \"\"\"\n",
    "    Функция для отрисовки матрицы ошибок\n",
    "        cm: Матрица ошибок\n",
    "        classes: список классов\n",
    "    \"\"\"\n",
    "    cm_norm = cm.astype('float') / cm.sum(axis=1)[:, np.newaxis]\n",
    "    plt.figure(figsize = (6,5))\n",
    "    \n",
    "    if normalize:\n",
    "        df_cm = pd.DataFrame(cm_norm, index = [i for i in classes],\n",
    "                             columns = [i for i in classes])\n",
    "        sns.heatmap(df_cm, annot=True, cmap=\"Blues\", fmt='.2g')\n",
    "    else:\n",
    "        df_cm = pd.DataFrame(cm, index = [i for i in classes],\n",
    "                         columns = [i for i in classes])\n",
    "        sns.heatmap(df_cm, annot=True, cmap=\"Blues\", fmt='g')\n",
    "        \n",
    "    plt.title('Матрица ошибок', fontsize=15)\n",
    "    plt.xlabel('Истинный класс', fontsize=12)\n",
    "    plt.ylabel('Предсказанный класс', fontsize=12)"
   ]
  },
  {
   "cell_type": "code",
   "execution_count": 17,
   "metadata": {
    "scrolled": true
   },
   "outputs": [
    {
     "data": {
      "image/png": "[encoded data removed]",
      "text/plain": [
       "<Figure size 432x360 with 2 Axes>"
      ]
     },
     "metadata": {},
     "output_type": "display_data"
    }
   ],
   "source": [
    "#### ваш код ####\n",
    "from sklearn.metrics import confusion_matrix\n",
    "\n",
    "cm = confusion_matrix(y_test, y_pred)\n",
    "classes = [0, 1]\n",
    "draw_cm(cm, classes)"
   ]
  },
  {
   "cell_type": "code",
   "execution_count": 20,
   "metadata": {
    "scrolled": true
   },
   "outputs": [
    {
     "name": "stdout",
     "output_type": "stream",
     "text": [
      "              precision    recall  f1-score   support\n",
      "\n",
      "           0       0.96      0.66      0.78       570\n",
      "           1       0.29      0.82      0.43        97\n",
      "\n",
      "    accuracy                           0.68       667\n",
      "   macro avg       0.62      0.74      0.60       667\n",
      "weighted avg       0.86      0.68      0.73       667\n",
      "\n"
     ]
    }
   ],
   "source": [
    "from sklearn.metrics import classification_report\n",
    "print(classification_report(y_test, y_pred,[0,1]))"
   ]
  },
  {
   "cell_type": "markdown",
   "metadata": {},
   "source": [
    "**Answer 1:**"
   ]
  },
  {
   "cell_type": "code",
   "execution_count": 21,
   "metadata": {
    "scrolled": true
   },
   "outputs": [
    {
     "data": {
      "text/plain": [
       "784"
      ]
     },
     "execution_count": 21,
     "metadata": {},
     "output_type": "execute_result"
    }
   ],
   "source": [
    "y_resampled.shape[0]-y_train.shape[0]"
   ]
  },
  {
   "cell_type": "markdown",
   "metadata": {},
   "source": [
    "**Answer 2:**"
   ]
  },
  {
   "cell_type": "markdown",
   "metadata": {},
   "source": [
    "Левый нижний угол- FalseNegative\n",
    "Верхний правый угол - FalsePositive"
   ]
  },
  {
   "cell_type": "markdown",
   "metadata": {},
   "source": [
    "**Answer 3:**"
   ]
  },
  {
   "cell_type": "markdown",
   "metadata": {},
   "source": [
    "Максимизировать - precision\\ \\\\\\\n",
    "Минимизировать - "
   ]
  },
  {
   "cell_type": "markdown",
   "metadata": {},
   "source": [
    "## <font color=\"purple\"> Обучение ансамблей на сбалансированных подвыборках"
   ]
  },
  {
   "cell_type": "markdown",
   "metadata": {},
   "source": [
    "### Задание 6\n",
    "\n",
    "Библиотека imblearn также предоставляет возможность обучения ансамблей на сбалансированных подвыборках. Примером может служить класс BalancedRandomForestClassifier.\n",
    "\n",
    "1. Кратко опишите, как работает реализация данного класса.\n",
    "    - Ответ запишите в гугл-форму __\"Вопрос 6.1\"__\n",
    "\n",
    "\n",
    "2. Импортируйте класс в ноутбук и постройте с его помощью классификатор. \n",
    "        - Все параметры оставьте по умолчанию, кроме двух: глубину дерева установите равной 3, random_state=1.\n",
    "        - Создайте прогнозы на тестовой выборке.\n",
    "        - Отрисуйте матрицу ошибок с помощью функции draw_cm.\n",
    "        - Выведите classification_report для быстрой оценки метрик по обоим классам.\n",
    "\n",
    "3. Оцените полноту модели. Ответ округлите до трех знаков после запятой.\n",
    "    - Ответ запишите в гугл-форму __\"Вопрос 6.2\"__\n",
    "    \n",
    "    \n",
    "4. Исследуйте созданный вами classification_report. По сравнению с моделью в __Задании 5__ увеличилась ли полнота мажорного класа, минорного класса или обоих классов??\n",
    "    - Ответ запишите в гугл-форму __\"Вопрос 6.3\"__\n",
    "    \n",
    "__NB__: Для воспроизводимости результатов и получения правильного ответа __во всех алгоритмах и методах__ нужно установить параметр random_seed=1!"
   ]
  },
  {
   "cell_type": "code",
   "execution_count": 25,
   "metadata": {},
   "outputs": [
    {
     "name": "stdout",
     "output_type": "stream",
     "text": [
      "              precision    recall  f1-score   support\n",
      "\n",
      "           0       0.97      0.88      0.92       570\n",
      "           1       0.55      0.85      0.66        97\n",
      "\n",
      "    accuracy                           0.88       667\n",
      "   macro avg       0.76      0.86      0.79       667\n",
      "weighted avg       0.91      0.88      0.89       667\n",
      "\n"
     ]
    },
    {
     "data": {
      "image/png": "[encoded data removed]",
      "text/plain": [
       "<Figure size 432x360 with 2 Axes>"
      ]
     },
     "metadata": {},
     "output_type": "display_data"
    }
   ],
   "source": [
    "#### ваш код ####\n",
    "from imblearn.ensemble import BalancedRandomForestClassifier\n",
    "\n",
    "cls = BalancedRandomForestClassifier(max_depth=3, random_state=1)\n",
    "cls.fit(X_train, y_train)\n",
    "y_preds = cls.predict(X_test)\n",
    "\n",
    "cm = confusion_matrix(y_test, y_pred)\n",
    "classes = [0, 1]\n",
    "draw_cm(cm, classes)\n",
    "\n",
    "print(classification_report(y_test, y_preds, [0, 1]))"
   ]
  },
  {
   "cell_type": "code",
   "execution_count": 27,
   "metadata": {},
   "outputs": [
    {
     "data": {
      "text/plain": [
       "0.786"
      ]
     },
     "execution_count": 27,
     "metadata": {},
     "output_type": "execute_result"
    }
   ],
   "source": [
    "round(0.66/(0.66+0.18),3)"
   ]
  }
 ],
 "metadata": {
  "kernelspec": {
   "display_name": "Python 3",
   "language": "python",
   "name": "python3"
  },
  "language_info": {
   "codemirror_mode": {
    "name": "ipython",
    "version": 3
   },
   "file_extension": ".py",
   "mimetype": "text/x-python",
   "name": "python",
   "nbconvert_exporter": "python",
   "pygments_lexer": "ipython3",
   "version": "3.7.6"
  }
 },
 "nbformat": 4,
 "nbformat_minor": 2
}
